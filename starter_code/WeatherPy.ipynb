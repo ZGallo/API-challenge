{
 "cells": [
  {
   "cell_type": "markdown",
   "metadata": {},
   "source": [
    "# WeatherPy\n",
    "----\n",
    "\n",
    "#### Note\n",
    "* Instructions have been included for each segment. You do not have to follow them exactly, but they are included to help you think through the steps."
   ]
  },
  {
   "cell_type": "code",
   "execution_count": 32,
   "metadata": {},
   "outputs": [
    {
     "name": "stdout",
     "output_type": "stream",
     "text": [
      "Collecting citipy\n",
      "  Downloading citipy-0.0.5.tar.gz (557 kB)\n",
      "Collecting kdtree>=0.12\n",
      "  Downloading kdtree-0.16-py2.py3-none-any.whl (7.7 kB)\n",
      "Building wheels for collected packages: citipy\n",
      "Note: you may need to restart the kernel to use updated packages.\n",
      "  Building wheel for citipy (setup.py): started\n",
      "  Building wheel for citipy (setup.py): finished with status 'done'\n",
      "  Created wheel for citipy: filename=citipy-0.0.5-py3-none-any.whl size=559707 sha256=fa155f289f3172cf9abd2af4cdecec138c1b675550ed2b7c65214a571f401698\n",
      "  Stored in directory: c:\\users\\ezgal\\appdata\\local\\pip\\cache\\wheels\\eb\\07\\14\\1c448d9fabf3aceac66270933ecae15693974a1b7f91266841\n",
      "Successfully built citipy\n",
      "Installing collected packages: kdtree, citipy\n",
      "Successfully installed citipy-0.0.5 kdtree-0.16\n"
     ]
    }
   ],
   "source": [
    "pip install citipy"
   ]
  },
  {
   "cell_type": "code",
   "execution_count": 3,
   "metadata": {},
   "outputs": [],
   "source": [
    "from citipy import citipy"
   ]
  },
  {
   "cell_type": "code",
   "execution_count": 4,
   "metadata": {
    "scrolled": true
   },
   "outputs": [],
   "source": [
    "import requests \n",
    "import json \n",
    "import pandas as pd\n",
    "import numpy as np\n",
    "import matplotlib.pyplot as plt\n",
    "import scipy.stats as st\n",
    "from api_keys import (weather_api_key, g_key)"
   ]
  },
  {
   "cell_type": "markdown",
   "metadata": {},
   "source": [
    "## Generate Cities List"
   ]
  },
  {
   "cell_type": "markdown",
   "metadata": {},
   "source": [
    "### Perform API Calls\n",
    "* Perform a weather check on each city using a series of successive API calls.\n",
    "* Include a print log of each city as it'sbeing processed (with the city number and city name).\n"
   ]
  },
  {
   "cell_type": "code",
   "execution_count": 45,
   "metadata": {
    "scrolled": true
   },
   "outputs": [
    {
     "name": "stdout",
     "output_type": "stream",
     "text": [
      "{\n",
      "    \"base\": \"stations\",\n",
      "    \"clouds\": {\n",
      "        \"all\": 40\n",
      "    },\n",
      "    \"cod\": 200,\n",
      "    \"coord\": {\n",
      "        \"lat\": 29.06,\n",
      "        \"lon\": -13.56\n",
      "    },\n",
      "    \"dt\": 1601298955,\n",
      "    \"id\": 2510573,\n",
      "    \"main\": {\n",
      "        \"feels_like\": 294.57,\n",
      "        \"humidity\": 54,\n",
      "        \"pressure\": 1014,\n",
      "        \"temp\": 300.15,\n",
      "        \"temp_max\": 300.15,\n",
      "        \"temp_min\": 300.15\n",
      "    },\n",
      "    \"name\": \"Teguise\",\n",
      "    \"sys\": {\n",
      "        \"country\": \"ES\",\n",
      "        \"id\": 2379,\n",
      "        \"sunrise\": 1601275550,\n",
      "        \"sunset\": 1601318616,\n",
      "        \"type\": 1\n",
      "    },\n",
      "    \"timezone\": 3600,\n",
      "    \"visibility\": 10000,\n",
      "    \"weather\": [\n",
      "        {\n",
      "            \"description\": \"scattered clouds\",\n",
      "            \"icon\": \"03d\",\n",
      "            \"id\": 802,\n",
      "            \"main\": \"Clouds\"\n",
      "        }\n",
      "    ],\n",
      "    \"wind\": {\n",
      "        \"deg\": 10,\n",
      "        \"speed\": 11.3\n",
      "    }\n",
      "}\n"
     ]
    }
   ],
   "source": [
    "#having a look at the json\n",
    "url = f\"http://api.openweathermap.org/data/2.5/weather?q={cities[0]}&appid={weather_api_key}\"\n",
    "response = requests.get(url).json()\n",
    "print(json.dumps(response, indent = 4, sort_keys = True))\n"
   ]
  },
  {
   "cell_type": "code",
   "execution_count": 6,
   "metadata": {},
   "outputs": [
    {
     "name": "stdout",
     "output_type": "stream",
     "text": [
      "Processing Record 1 | Muli\n",
      "Processing Record 2 | Busselton\n",
      "Processing Record 3 | Bindi\n",
      "Processing Record 4 | Kapaa\n",
      "Processing Record 5 | Varaždin\n",
      "Processing Record 6 | Paamiut\n",
      "Processing Record 7 | Ushuaia\n",
      "Processing Record 8 | Yataity\n",
      "Processing Record 9 | Penzance\n",
      "Processing Record 10 | Thompson\n",
      "Processing Record 11 | Whitianga\n",
      "Processing Record 12 | Hermanus\n",
      "Processing Record 13 | Arraial do Cabo\n",
      "Processing Record 14 | Tokur\n",
      "Processing Record 15 | Vaini\n",
      "Processing Record 16 | Rikitea\n",
      "Processing Record 17 | Ribeira Brava\n",
      "Processing Record 18 | Butaritari\n",
      "Processing Record 19 | Batote\n",
      "Processing Record 20 | Pusad\n",
      "Processing Record 21 | Mar del Plata\n",
      "Processing Record 22 | Punta Arenas\n",
      "Processing Record 23 | Tsabong\n",
      "Processing Record 24 | Markova\n",
      "Processing Record 25 | Tasiilaq\n",
      "Processing Record 26 | Cape Town\n",
      "Processing Record 27 | Saint-Philippe\n",
      "City not found. Skipping...\n",
      "Processing Record 28 | Yellowknife\n",
      "Processing Record 29 | Narsaq\n",
      "Processing Record 30 | Glomfjord\n",
      "Processing Record 31 | Barrow\n",
      "Processing Record 32 | Laguna\n",
      "Processing Record 33 | Hilo\n",
      "City not found. Skipping...\n",
      "Processing Record 34 | Port Elizabeth\n",
      "Processing Record 35 | Vinh\n",
      "Processing Record 36 | Port Blair\n",
      "Processing Record 37 | Plettenberg Bay\n",
      "Processing Record 38 | Broome\n",
      "City not found. Skipping...\n",
      "City not found. Skipping...\n",
      "Processing Record 39 | Hobart\n",
      "Processing Record 40 | Pandan\n",
      "Processing Record 41 | Vardø\n",
      "Processing Record 42 | Boueni\n",
      "Processing Record 43 | Senanga\n",
      "Processing Record 44 | Gisenyi\n",
      "Processing Record 45 | Talcahuano\n",
      "Processing Record 46 | Kayerkan\n",
      "Processing Record 47 | Nikolskoye\n",
      "Processing Record 48 | Santoña\n",
      "Processing Record 49 | Araguaína\n",
      "Processing Record 50 | Bluff\n",
      "Processing Record 51 | Minas Novas\n",
      "Processing Record 52 | Sindou\n",
      "Processing Record 53 | Ladushkin\n",
      "Processing Record 54 | Bredasdorp\n",
      "Processing Record 55 | Dikson\n",
      "Processing Record 56 | Port Alfred\n",
      "Processing Record 57 | Lebu\n",
      "Processing Record 58 | New Norfolk\n",
      "Processing Record 59 | Guerrero Negro\n",
      "Processing Record 60 | Cedar City\n",
      "Processing Record 61 | Longyearbyen\n",
      "Processing Record 62 | George\n",
      "Processing Record 63 | Waddān\n",
      "Processing Record 64 | Cidreira\n",
      "Processing Record 65 | Boa Vista\n",
      "Processing Record 66 | Albany\n",
      "Processing Record 67 | Husavik\n",
      "Processing Record 68 | Karratha\n",
      "City not found. Skipping...\n",
      "Processing Record 69 | Port-Gentil\n",
      "City not found. Skipping...\n",
      "City not found. Skipping...\n",
      "Processing Record 70 | Airai\n",
      "Processing Record 71 | Saint George\n",
      "Processing Record 72 | Chara\n",
      "Processing Record 73 | Americana\n",
      "Processing Record 74 | Macaé\n",
      "Processing Record 75 | Staraya Kulatka\n",
      "Processing Record 76 | Praia da Vitória\n",
      "Processing Record 77 | Beloha\n",
      "City not found. Skipping...\n",
      "City not found. Skipping...\n",
      "Processing Record 78 | Buala\n",
      "City not found. Skipping...\n",
      "Processing Record 79 | Ziniaré\n",
      "Processing Record 80 | Burns Lake\n",
      "Processing Record 81 | Coahuayana Viejo\n",
      "City not found. Skipping...\n",
      "City not found. Skipping...\n",
      "Processing Record 82 | Lüderitz\n",
      "Processing Record 83 | Tamiahua\n",
      "Processing Record 84 | Jieshi\n",
      "Processing Record 85 | Bairiki Village\n",
      "Processing Record 86 | Ribeira Grande\n",
      "Processing Record 87 | Kavieng\n",
      "Processing Record 88 | Batagay-Alyta\n",
      "Processing Record 89 | Atuona\n",
      "Processing Record 90 | Kruisfontein\n",
      "City not found. Skipping...\n",
      "Processing Record 91 | Leningradskiy\n",
      "Processing Record 92 | Angoche\n",
      "City not found. Skipping...\n",
      "Processing Record 93 | Port Hardy\n",
      "Processing Record 94 | Codrington\n",
      "Processing Record 95 | George Town\n",
      "Processing Record 96 | Puerto Ayora\n",
      "Processing Record 97 | Ponta do Sol\n",
      "Processing Record 98 | Margate\n",
      "Processing Record 99 | Souillac\n",
      "Processing Record 100 | Severo-Kuril'sk\n",
      "Processing Record 101 | Pevek\n",
      "Processing Record 102 | Tilichiki\n",
      "Processing Record 103 | Los Llanos de Aridane\n",
      "Processing Record 104 | Qaanaaq\n",
      "Processing Record 105 | Carnarvon\n",
      "Processing Record 106 | Comodoro Rivadavia\n",
      "Processing Record 107 | Dakar\n",
      "City not found. Skipping...\n",
      "Processing Record 108 | Shakawe\n",
      "Processing Record 109 | Esperance\n",
      "Processing Record 110 | Alzey\n",
      "Processing Record 111 | Deep River\n",
      "Processing Record 112 | Touros\n",
      "City not found. Skipping...\n",
      "Processing Record 113 | Tayshet\n",
      "Processing Record 114 | Saint-Augustin\n",
      "City not found. Skipping...\n",
      "Processing Record 115 | Moramanga\n",
      "Processing Record 116 | Mataura\n",
      "Processing Record 117 | Riberalta\n",
      "Processing Record 118 | Faanui\n",
      "Processing Record 119 | San Fernando del Valle de Catamarca\n",
      "City not found. Skipping...\n",
      "Processing Record 120 | Iqaluit\n",
      "Processing Record 121 | Vila Velha\n",
      "Processing Record 122 | Bambous Virieux\n",
      "Processing Record 123 | Vaasa\n",
      "Processing Record 124 | Lilongwe\n",
      "Processing Record 125 | Mahébourg\n",
      "Processing Record 126 | Krasnoarmeysk\n",
      "Processing Record 127 | Beringovskiy\n",
      "Processing Record 128 | Kupang\n",
      "Processing Record 129 | Le Port\n",
      "Processing Record 130 | Hasaki\n",
      "City not found. Skipping...\n",
      "Processing Record 131 | Torbay\n",
      "Processing Record 132 | Mpulungu\n",
      "Processing Record 133 | Khatanga\n",
      "Processing Record 134 | Katsuura\n",
      "Processing Record 135 | Avigliano\n",
      "Processing Record 136 | Aquiraz\n",
      "Processing Record 137 | Porto Walter\n",
      "Processing Record 138 | Ponta Delgada\n",
      "Processing Record 139 | Kaitangata\n",
      "Processing Record 140 | Aklavik\n",
      "Processing Record 141 | Enumclaw\n",
      "Processing Record 142 | São Filipe\n",
      "City not found. Skipping...\n",
      "City not found. Skipping...\n",
      "Processing Record 143 | Sompeta\n",
      "Processing Record 144 | Jamestown\n",
      "Processing Record 145 | Yabrūd\n",
      "Processing Record 146 | Taunggyi\n",
      "City not found. Skipping...\n",
      "Processing Record 147 | Santa Cruz de la Sierra\n",
      "Processing Record 148 | Rio Grande\n",
      "Processing Record 149 | Sitka\n",
      "Processing Record 150 | Coyhaique\n",
      "Processing Record 151 | Acarí\n",
      "Processing Record 152 | New Richmond\n",
      "Processing Record 153 | Castro\n",
      "Processing Record 154 | Carauari\n",
      "Processing Record 155 | Korla\n",
      "Processing Record 156 | Walvis Bay\n",
      "Processing Record 157 | Kota Kinabalu\n",
      "Processing Record 158 | Lamar\n",
      "City not found. Skipping...\n",
      "Processing Record 159 | Richards Bay\n",
      "City not found. Skipping...\n",
      "Processing Record 160 | Sembakung\n",
      "City not found. Skipping...\n",
      "City not found. Skipping...\n",
      "Processing Record 161 | Takhtamygda\n",
      "Processing Record 162 | Río Gallegos\n",
      "Processing Record 163 | Ibotirama\n",
      "Processing Record 164 | Terrace\n",
      "Processing Record 165 | Cherskiy\n",
      "Processing Record 166 | Kulhudhuffushi\n",
      "Processing Record 167 | Caravelas\n",
      "Processing Record 168 | Ancud\n",
      "Processing Record 169 | Rāmhormoz\n",
      "Processing Record 170 | Saskylakh\n",
      "Processing Record 171 | Tautira\n",
      "Processing Record 172 | Coquimbo\n",
      "Processing Record 173 | Anadyr\n",
      "Processing Record 174 | Kiryat Gat\n",
      "Processing Record 175 | Santa Vitória do Palmar\n",
      "Processing Record 176 | Haines Junction\n",
      "Processing Record 177 | Kamari\n",
      "Processing Record 178 | Tarata\n",
      "City not found. Skipping...\n",
      "City not found. Skipping...\n",
      "Processing Record 179 | Shache\n",
      "Processing Record 180 | Lhokseumawe\n",
      "Processing Record 181 | Tomra\n",
      "Processing Record 182 | Kondinskoye\n",
      "Processing Record 183 | Ilulissat\n",
      "Processing Record 184 | Ostrovnoy\n",
      "Processing Record 185 | Lorengau\n",
      "Processing Record 186 | Teknāf\n",
      "Processing Record 187 | Provideniya\n",
      "Processing Record 188 | The Valley\n",
      "Processing Record 189 | San Patricio\n",
      "Processing Record 190 | Khani\n",
      "Processing Record 191 | Byron Bay\n",
      "Processing Record 192 | Gamba\n",
      "Processing Record 193 | Mikhaylovka\n",
      "Processing Record 194 | Luganville\n",
      "Processing Record 195 | Verkhoyansk\n",
      "Processing Record 196 | Ayr\n",
      "Processing Record 197 | Encantado\n",
      "Processing Record 198 | Roald\n",
      "City not found. Skipping...\n",
      "Processing Record 199 | Omboué\n",
      "Processing Record 200 | Ixtapa\n",
      "Processing Record 201 | Dingle\n",
      "Processing Record 202 | Westport\n",
      "Processing Record 203 | Xishan\n",
      "City not found. Skipping...\n",
      "Processing Record 204 | Naze\n",
      "Processing Record 205 | Kalengwa\n",
      "Processing Record 206 | Nuuk\n",
      "City not found. Skipping...\n",
      "Processing Record 207 | Spring Hill\n",
      "City not found. Skipping...\n",
      "Processing Record 208 | Avarua\n",
      "Processing Record 209 | Bethel\n",
      "Processing Record 210 | Palmer\n",
      "Processing Record 211 | Yumen\n",
      "Processing Record 212 | Balkanabat\n",
      "Processing Record 213 | Hofn\n",
      "City not found. Skipping...\n",
      "Processing Record 214 | Kumluca\n",
      "Processing Record 215 | Nuristan\n",
      "Processing Record 216 | Pargas\n",
      "Processing Record 217 | Ovsyanka\n",
      "City not found. Skipping...\n",
      "Processing Record 218 | Srednekolymsk\n"
     ]
    },
    {
     "name": "stdout",
     "output_type": "stream",
     "text": [
      "Processing Record 219 | Mazyr\n",
      "Processing Record 220 | Auki\n",
      "Processing Record 221 | Nizhniy Odes\n",
      "Processing Record 222 | Baillif\n",
      "City not found. Skipping...\n",
      "Processing Record 223 | Aswān\n",
      "Processing Record 224 | Ahipara\n",
      "Processing Record 225 | Shimoda\n",
      "Processing Record 226 | Hualmay\n",
      "City not found. Skipping...\n",
      "Processing Record 227 | San Rafael\n",
      "Processing Record 228 | Atasū\n",
      "Processing Record 229 | San Quintín\n",
      "Processing Record 230 | Hong Kong\n",
      "Processing Record 231 | Tiksi\n",
      "Processing Record 232 | Alice Springs\n",
      "Processing Record 233 | Umluj\n",
      "Processing Record 234 | Berlevåg\n",
      "Processing Record 235 | Vestmannaeyjar\n",
      "Processing Record 236 | Ocampo\n",
      "City not found. Skipping...\n",
      "City not found. Skipping...\n",
      "Processing Record 237 | Waipawa\n",
      "Processing Record 238 | Tessalit\n",
      "Processing Record 239 | Kahului\n",
      "Processing Record 240 | Novaya Igirma\n",
      "Processing Record 241 | Pyn U Lwin\n",
      "Processing Record 242 | Te Anau\n",
      "Processing Record 243 | Marevo\n",
      "Processing Record 244 | Xique-Xique\n",
      "Processing Record 245 | Padilla\n",
      "Processing Record 246 | Kot Samaba\n",
      "Processing Record 247 | Kavaratti\n",
      "Processing Record 248 | Muravlenko\n",
      "Processing Record 249 | Grindavik\n",
      "Processing Record 250 | Kousséri\n",
      "Processing Record 251 | Yar-Sale\n",
      "Processing Record 252 | Fortuna\n",
      "Processing Record 253 | Redenção\n",
      "Processing Record 254 | Puerto del Rosario\n",
      "City not found. Skipping...\n",
      "Processing Record 255 | Lyubymivka\n",
      "Processing Record 256 | Motygino\n",
      "Processing Record 257 | San Andrés\n",
      "Processing Record 258 | San Cristobal\n",
      "Processing Record 259 | Shenjiamen\n",
      "Processing Record 260 | Guarabira\n",
      "Processing Record 261 | Yerbogachën\n",
      "Processing Record 262 | Gubkinskiy\n",
      "Processing Record 263 | Manggar\n",
      "Processing Record 264 | Olds\n",
      "Processing Record 265 | Severnyy\n",
      "Processing Record 266 | Carlsbad\n",
      "Processing Record 267 | Havre-St-Pierre\n",
      "Processing Record 268 | Chokurdakh\n",
      "City not found. Skipping...\n",
      "Processing Record 269 | Sapiranga\n",
      "Processing Record 270 | Conde\n",
      "Processing Record 271 | Tefé\n",
      "Processing Record 272 | Tuktoyaktuk\n",
      "City not found. Skipping...\n",
      "Processing Record 273 | East London\n",
      "Processing Record 274 | Methven\n",
      "Processing Record 275 | Honiara\n",
      "Processing Record 276 | Mayor Pablo Lagerenza\n",
      "Processing Record 277 | Sur\n",
      "Processing Record 278 | Almaznyy\n",
      "Processing Record 279 | Puerto Escondido\n",
      "Processing Record 280 | Narasannapeta\n",
      "Processing Record 281 | Plouzané\n",
      "Processing Record 282 | Namatanai\n",
      "Processing Record 283 | Shihezi\n",
      "Processing Record 284 | San Antonio\n",
      "City not found. Skipping...\n",
      "Processing Record 285 | Grand-Santi\n",
      "City not found. Skipping...\n",
      "Processing Record 286 | Krechevitsy\n",
      "Processing Record 287 | Samarai\n",
      "Processing Record 288 | Bengkulu\n",
      "Processing Record 289 | Redlands\n",
      "Processing Record 290 | Kotma\n",
      "Processing Record 291 | Zhigansk\n",
      "Processing Record 292 | Hithadhoo\n",
      "Processing Record 293 | Chui\n",
      "Processing Record 294 | Tan An\n",
      "City not found. Skipping...\n",
      "Processing Record 295 | Kuytun\n",
      "Processing Record 296 | Aksu\n",
      "Processing Record 297 | Guarapari\n",
      "Processing Record 298 | Coihueco\n",
      "Processing Record 299 | Yulara\n",
      "Processing Record 300 | Saint Paul Harbor\n",
      "Processing Record 301 | Christchurch\n",
      "Processing Record 302 | Pacific Grove\n",
      "Processing Record 303 | Jacksonville\n",
      "Processing Record 304 | Ulladulla\n",
      "Processing Record 305 | Upernavik\n",
      "Processing Record 306 | Pomabamba\n",
      "Processing Record 307 | Lakes Entrance\n",
      "City not found. Skipping...\n",
      "Processing Record 308 | Poronaysk\n",
      "Processing Record 309 | Saldanha\n",
      "Processing Record 310 | Shar'ya\n",
      "City not found. Skipping...\n",
      "Processing Record 311 | São João da Barra\n",
      "City not found. Skipping...\n",
      "Processing Record 312 | Kabompo\n",
      "Processing Record 313 | Maragogi\n",
      "City not found. Skipping...\n",
      "Processing Record 314 | Geraldton\n",
      "Processing Record 315 | Zabul Province\n",
      "Processing Record 316 | Galle\n",
      "Processing Record 317 | Guozhen\n",
      "Processing Record 318 | Wadi Maliz\n",
      "Processing Record 319 | Iquitos\n",
      "Processing Record 320 | Grafton\n",
      "City not found. Skipping...\n",
      "Processing Record 321 | Tazovsky\n",
      "Processing Record 322 | Eyl\n",
      "Processing Record 323 | Saint-Pierre\n",
      "Processing Record 324 | Paredon\n",
      "Processing Record 325 | Khanbari\n",
      "Processing Record 326 | Cangzhou\n",
      "Processing Record 327 | Itararé\n",
      "Processing Record 328 | Neulengbach\n",
      "Processing Record 329 | Isangel\n",
      "City not found. Skipping...\n",
      "Processing Record 330 | Portland\n",
      "Processing Record 331 | Villarrica\n",
      "Processing Record 332 | Sarh\n",
      "Processing Record 333 | Fougamou\n",
      "Processing Record 334 | Klaksvík\n",
      "Processing Record 335 | Samaná\n",
      "Processing Record 336 | Fort Nelson\n",
      "Processing Record 337 | Maku\n",
      "Processing Record 338 | Bose\n",
      "City not found. Skipping...\n",
      "Processing Record 339 | Kantunilkín\n",
      "Processing Record 340 | Brownwood\n",
      "Processing Record 341 | Tabou\n",
      "Processing Record 342 | Mastic Beach\n",
      "Processing Record 343 | Pisco\n",
      "Processing Record 344 | Erzurum Province\n",
      "Processing Record 345 | Hirara\n",
      "Processing Record 346 | Nouakchott\n",
      "Processing Record 347 | Heidenheim\n",
      "Processing Record 348 | Mazagão\n",
      "Processing Record 349 | Bandarbeyla\n",
      "Processing Record 350 | Kununurra\n",
      "City not found. Skipping...\n",
      "City not found. Skipping...\n",
      "Processing Record 351 | Goma\n",
      "Processing Record 352 | Monrovia\n",
      "City not found. Skipping...\n",
      "Processing Record 353 | Araouane\n",
      "City not found. Skipping...\n",
      "Processing Record 354 | Skibbereen\n",
      "City not found. Skipping...\n",
      "Processing Record 355 | Kataysk\n",
      "Processing Record 356 | Bathsheba\n",
      "City not found. Skipping...\n",
      "Processing Record 357 | Mbuji-Mayi\n",
      "City not found. Skipping...\n",
      "Processing Record 358 | Kamenka\n",
      "Processing Record 359 | Verkhnyaya Tura\n",
      "Processing Record 360 | Abu Kamal\n",
      "Processing Record 361 | Lagoa\n",
      "City not found. Skipping...\n",
      "Processing Record 362 | Āmol\n",
      "Processing Record 363 | Svetlaya\n",
      "Processing Record 364 | Riachão do Jacuípe\n",
      "Processing Record 365 | Pitimbu\n",
      "Processing Record 366 | Srandakan\n",
      "Processing Record 367 | Carutapera\n",
      "Processing Record 368 | Chokwé\n",
      "City not found. Skipping...\n",
      "City not found. Skipping...\n",
      "Processing Record 369 | Arlit\n",
      "Processing Record 370 | Bon Accord\n",
      "City not found. Skipping...\n",
      "City not found. Skipping...\n",
      "Processing Record 371 | Qianjiang\n",
      "Processing Record 372 | Kapit\n",
      "Processing Record 373 | Adré\n",
      "Processing Record 374 | Lata\n",
      "Processing Record 375 | Nizhnevartovsk\n",
      "Processing Record 376 | Shamary\n",
      "Processing Record 377 | Kirakira\n",
      "Processing Record 378 | Kyrylivka\n",
      "Processing Record 379 | Marabu\n",
      "Processing Record 380 | Kyren\n",
      "City not found. Skipping...\n",
      "City not found. Skipping...\n",
      "Processing Record 381 | Cockburn Town\n",
      "City not found. Skipping...\n",
      "Processing Record 382 | Flinders\n",
      "Processing Record 383 | Merauke\n",
      "Processing Record 384 | Mayrtup\n",
      "City not found. Skipping...\n",
      "City not found. Skipping...\n",
      "Processing Record 385 | Fort Frances\n",
      "City not found. Skipping...\n",
      "Processing Record 386 | Pervoye Maya\n",
      "City not found. Skipping...\n",
      "Processing Record 387 | Nishihara\n",
      "Processing Record 388 | Chapais\n",
      "Processing Record 389 | Vao\n",
      "City not found. Skipping...\n",
      "Processing Record 390 | Sabha\n",
      "City not found. Skipping...\n",
      "Processing Record 391 | Vostok\n",
      "Processing Record 392 | Nhulunbuy\n",
      "Processing Record 393 | Biak\n",
      "Processing Record 394 | Alīganj\n",
      "Processing Record 395 | Orlik\n",
      "City not found. Skipping...\n",
      "City not found. Skipping...\n",
      "Processing Record 396 | Orda\n",
      "Processing Record 397 | Muros\n",
      "Processing Record 398 | Leander\n",
      "City not found. Skipping...\n",
      "Processing Record 399 | Deputatsky\n",
      "Processing Record 400 | Wagar\n",
      "Processing Record 401 | Selianitika\n",
      "Processing Record 402 | Paracatu\n",
      "Processing Record 403 | Longkou\n",
      "Processing Record 404 | Priladozhskiy\n",
      "Processing Record 405 | Moche\n",
      "Processing Record 406 | Fairlie\n",
      "City not found. Skipping...\n",
      "Processing Record 407 | Ayagoz\n",
      "Processing Record 408 | Tromsø\n",
      "Processing Record 409 | Punto Fijo\n",
      "Processing Record 410 | Trn\n",
      "Processing Record 411 | Rafrāf\n",
      "Processing Record 412 | Zhangaözen\n",
      "City not found. Skipping...\n",
      "Processing Record 413 | Cabo San Lucas\n",
      "Processing Record 414 | Port Hawkesbury\n",
      "City not found. Skipping...\n",
      "City not found. Skipping...\n",
      "Processing Record 415 | Tegul'det\n",
      "Processing Record 416 | Dzerzhinsk\n",
      "Processing Record 417 | Sept-Îles\n",
      "Processing Record 418 | Great Bend\n",
      "Processing Record 419 | San Francisco\n",
      "Processing Record 420 | Solnechnyy\n",
      "Processing Record 421 | Lumina\n",
      "City not found. Skipping...\n",
      "Processing Record 422 | Mali\n",
      "City not found. Skipping...\n",
      "Processing Record 423 | Grand Gaube\n",
      "Processing Record 424 | Japura\n"
     ]
    },
    {
     "name": "stdout",
     "output_type": "stream",
     "text": [
      "Processing Record 425 | Cayenne\n",
      "Processing Record 426 | Andenes\n",
      "City not found. Skipping...\n",
      "Processing Record 427 | Zemio\n",
      "City not found. Skipping...\n",
      "Processing Record 428 | Lagos\n",
      "City not found. Skipping...\n",
      "Processing Record 429 | Przasnysz\n",
      "Processing Record 430 | Mulino\n",
      "Processing Record 431 | Hobyo\n",
      "Processing Record 432 | Mount Gambier\n",
      "Processing Record 433 | Viedma\n",
      "Processing Record 434 | Chāndpur\n",
      "Processing Record 435 | Cabedelo\n",
      "Processing Record 436 | Nome\n",
      "Processing Record 437 | Maceió\n",
      "City not found. Skipping...\n",
      "City not found. Skipping...\n",
      "Processing Record 438 | Charlestown\n",
      "Processing Record 439 | Olafsvik\n",
      "Processing Record 440 | Santo Antônio do Içá\n",
      "Processing Record 441 | Juba\n",
      "Processing Record 442 | Martapura\n",
      "Processing Record 443 | Sørland\n",
      "Processing Record 444 | São José da Coroa Grande\n",
      "City not found. Skipping...\n",
      "Processing Record 445 | Talnakh\n",
      "City not found. Skipping...\n",
      "Processing Record 446 | Tomatlán\n",
      "City not found. Skipping...\n",
      "Processing Record 447 | Alofi\n",
      "Processing Record 448 | Piney Green\n",
      "Processing Record 449 | Necochea\n",
      "Processing Record 450 | Ninotsminda\n",
      "Processing Record 451 | Sunrise Manor\n",
      "Processing Record 452 | Manta\n",
      "Processing Record 453 | Ambon City\n",
      "Processing Record 454 | Moussoro\n",
      "Processing Record 455 | Voss\n",
      "Processing Record 456 | Oranjemund\n",
      "Processing Record 457 | Marzuq\n",
      "Processing Record 458 | Half Moon Bay\n",
      "Processing Record 459 | Maracaju\n",
      "Processing Record 460 | Sardārshahr\n",
      "Processing Record 461 | Mujiayingzi\n",
      "Processing Record 462 | Tak\n",
      "Processing Record 463 | Lavrentiya\n",
      "Processing Record 464 | Bridlington\n",
      "Processing Record 465 | Nanortalik\n",
      "Processing Record 466 | Tuatapere\n",
      "Processing Record 467 | Taoudenni\n",
      "Processing Record 468 | Kaeo\n",
      "Processing Record 469 | College\n",
      "City not found. Skipping...\n",
      "Processing Record 470 | Tashtagol\n",
      "Processing Record 471 | Verāval\n",
      "City not found. Skipping...\n",
      "Processing Record 472 | Asău\n",
      "Processing Record 473 | Zambezi\n",
      "Processing Record 474 | Baghmara\n",
      "City not found. Skipping...\n",
      "Processing Record 475 | Limbang\n",
      "Processing Record 476 | Warmbad\n",
      "Processing Record 477 | Malakal\n",
      "Processing Record 478 | Puerto Madryn\n",
      "City not found. Skipping...\n",
      "City not found. Skipping...\n",
      "Processing Record 479 | Oussouye\n",
      "Processing Record 480 | Sabang\n",
      "Processing Record 481 | La Palma\n",
      "Processing Record 482 | Entebbe\n",
      "City not found. Skipping...\n",
      "City not found. Skipping...\n",
      "Processing Record 483 | Warrnambool\n",
      "Processing Record 484 | Bonavista\n",
      "City not found. Skipping...\n",
      "Processing Record 485 | Mahābaleshwar\n",
      "Processing Record 486 | Lerwick\n",
      "Processing Record 487 | Cap Malheureux\n",
      "City not found. Skipping...\n",
      "Processing Record 488 | Zhalantun\n",
      "City not found. Skipping...\n",
      "City not found. Skipping...\n",
      "City not found. Skipping...\n",
      "Processing Record 489 | Salantai\n",
      "City not found. Skipping...\n",
      "Processing Record 490 | Clyde River\n",
      "Processing Record 491 | Valparaíso\n",
      "Processing Record 492 | Seoul\n",
      "City not found. Skipping...\n",
      "Processing Record 493 | Ambunti\n",
      "Processing Record 494 | Vangaindrano\n",
      "City not found. Skipping...\n",
      "Processing Record 495 | Baracoa\n",
      "Processing Record 496 | Denizli Province\n",
      "City not found. Skipping...\n",
      "Processing Record 497 | Rocha\n",
      "City not found. Skipping...\n",
      "Processing Record 498 | Jasper\n",
      "City not found. Skipping...\n",
      "City not found. Skipping...\n",
      "Processing Record 499 | Mackay\n",
      "Processing Record 500 | Najrān\n",
      "Processing Record 501 | Bull Savanna\n",
      "Processing Record 502 | Victor Harbor\n",
      "Processing Record 503 | Keffi\n",
      "Processing Record 504 | Camabatela\n",
      "Processing Record 505 | Nouadhibou\n",
      "Processing Record 506 | Dali\n",
      "City not found. Skipping...\n",
      "City not found. Skipping...\n",
      "City not found. Skipping...\n",
      "Processing Record 507 | Agirish\n",
      "Processing Record 508 | Cavalcante\n",
      "Processing Record 509 | Udachny\n",
      "Processing Record 510 | Lompoc\n",
      "City not found. Skipping...\n",
      "City not found. Skipping...\n",
      "Processing Record 511 | Norman Wells\n",
      "Processing Record 512 | Longmont\n",
      "Processing Record 513 | Inírida\n",
      "Processing Record 514 | City of San Pedro\n",
      "City not found. Skipping...\n",
      "Processing Record 515 | Cassilândia\n",
      "Processing Record 516 | Moerai\n",
      "City not found. Skipping...\n",
      "City not found. Skipping...\n",
      "Processing Record 517 | Luchegorsk\n",
      "City not found. Skipping...\n",
      "Processing Record 518 | Sédhiou\n",
      "Processing Record 519 | Biltine\n",
      "Processing Record 520 | Shar\n",
      "Processing Record 521 | Morondava\n",
      "Processing Record 522 | Ust-Kuyga\n",
      "Processing Record 523 | Meulaboh\n",
      "Processing Record 524 | Hūn\n",
      "Processing Record 525 | Sioux Lookout\n",
      "Processing Record 526 | Marovoay\n",
      "Processing Record 527 | Mossamedes\n",
      "City not found. Skipping...\n",
      "Processing Record 528 | Yatou\n",
      "Processing Record 529 | Thunder Bay\n",
      "Processing Record 530 | Sekoma\n",
      "Processing Record 531 | Okha\n",
      "Processing Record 532 | Ugep\n",
      "City not found. Skipping...\n",
      "Processing Record 533 | Vélingara\n",
      "Processing Record 534 | Shubarkuduk\n",
      "Processing Record 535 | Swan River\n",
      "City not found. Skipping...\n",
      "Processing Record 536 | Sorong\n",
      "Processing Record 537 | Hammerfest\n",
      "City not found. Skipping...\n",
      "Processing Record 538 | Sola\n",
      "Processing Record 539 | Belmonte\n",
      "City not found. Skipping...\n",
      "Processing Record 540 | Beidao\n",
      "City not found. Skipping...\n",
      "Processing Record 541 | Nyurba\n",
      "Processing Record 542 | Pailón\n",
      "Processing Record 543 | Enköping\n",
      "Processing Record 544 | Nara\n",
      "Processing Record 545 | Vidim\n",
      "Processing Record 546 | Papar\n",
      "City not found. Skipping...\n",
      "Processing Record 547 | Nālūt\n",
      "Processing Record 548 | Verkh-Chebula\n",
      "Processing Record 549 | Ubari\n",
      "Processing Record 550 | Ambilobe\n",
      "Processing Record 551 | Sayhāt\n",
      "Processing Record 552 | Pinawa\n",
      "Processing Record 553 | Punta Alta\n",
      "City not found. Skipping...\n",
      "Processing Record 554 | Mabai\n",
      "Processing Record 555 | Buraidah\n",
      "Processing Record 556 | Dalvik\n",
      "Processing Record 557 | Khowst\n",
      "City not found. Skipping...\n",
      "Processing Record 558 | Mormugao\n",
      "Processing Record 559 | Nexø\n",
      "Processing Record 560 | Puerto Baquerizo Moreno\n",
      "Processing Record 561 | Altamont\n",
      "Processing Record 562 | Tarsus\n",
      "Processing Record 563 | Jinxiang\n",
      "Processing Record 564 | Pangnirtung\n",
      "City not found. Skipping...\n",
      "City not found. Skipping...\n",
      "City not found. Skipping...\n",
      "Processing Record 565 | Moberly\n",
      "Processing Record 566 | Manono\n",
      "Processing Record 567 | Ust'-Kan\n",
      "City not found. Skipping...\n",
      "Processing Record 568 | Forestville\n",
      "Processing Record 569 | Slave Lake\n",
      "Processing Record 570 | Daokou\n",
      "Processing Record 571 | Matagami\n",
      "Processing Record 572 | Nísia Floresta\n",
      "City not found. Skipping...\n",
      "Processing Record 573 | Talā\n",
      "Processing Record 574 | Sinazongwe\n",
      "Processing Record 575 | Kutum\n",
      "Processing Record 576 | Palmerston\n",
      "Processing Record 577 | Vila Franca do Campo\n",
      "Processing Record 578 | Bam\n",
      "Processing Record 579 | Krasnyy Chikoy\n",
      "Processing Record 580 | Constitución\n",
      "Processing Record 581 | Nikel\n",
      "City not found. Skipping...\n",
      "Processing Record 582 | Blackwater\n",
      "Processing Record 583 | Berdigestyakh\n",
      "Processing Record 584 | ‘Āhuimanu\n",
      "City not found. Skipping...\n",
      "City not found. Skipping...\n",
      "Processing Record 585 | Alaca\n",
      "City not found. Skipping...\n",
      "Processing Record 586 | Whitehorse\n",
      "Processing Record 587 | Padang\n",
      "City not found. Skipping...\n",
      "Processing Record 588 | Kotovo\n",
      "Processing Record 589 | Saint-François\n",
      "Processing Record 590 | Natal\n",
      "Processing Record 591 | Komatipoort\n",
      "Processing Record 592 | Marawi\n",
      "City not found. Skipping...\n",
      "City not found. Skipping...\n",
      "Processing Record 593 | Madang\n",
      "City not found. Skipping...\n",
      "Processing Record 594 | Severnyy-Kospashskiy\n",
      "Processing Record 595 | Den Helder\n",
      "City not found. Skipping...\n",
      "Processing Record 596 | Dwārka\n",
      "Processing Record 597 | Kiunga\n",
      "Processing Record 598 | Mbanza-Ngungu\n",
      "Processing Record 599 | Gannan\n",
      "Processing Record 600 | Saint Anthony\n"
     ]
    }
   ],
   "source": [
    "#creating empty lists for each data output\n",
    "cloudiness = []\n",
    "country = []\n",
    "date = []\n",
    "humidity = []\n",
    "lat = []\n",
    "lng = []\n",
    "max_temp = []\n",
    "wind_speed = []\n",
    "\n",
    "cities = []\n",
    "\n",
    "count = 1\n",
    "while len(cities) < 600:\n",
    "    \n",
    "    #creating random cities\n",
    "    latitude = np.random.uniform(-90, 90)\n",
    "    longitude = np.random.uniform(-180, 180)\n",
    "    city = citipy.nearest_city(latitude, longitude)\n",
    "    city_name = city.city_name\n",
    "     \n",
    "    \n",
    "    #checking the city exists in the API record\n",
    "    try:\n",
    "        url = f\"http://api.openweathermap.org/data/2.5/weather?q={city_name}&appid={weather_api_key}\"\n",
    "        \n",
    "        response = requests.get(url).json()\n",
    "        \n",
    "        the_city_name = response['name']\n",
    "                      \n",
    "        if the_city_name not in cities:\n",
    "            \n",
    "            #eliminating values with humidity greater than 100\n",
    "            if response['main']['humidity'] < 101:\n",
    "                \n",
    "                cities.append(the_city_name)\n",
    "        \n",
    "                #appending data to corresponding list\n",
    "                cloudiness.append(response['clouds']['all'])\n",
    "                country.append(response['sys']['country'])\n",
    "                date.append(response['dt'])\n",
    "                humidity.append(response['main']['humidity'])\n",
    "                lat.append(response['coord']['lat'])\n",
    "                lng.append(response['coord']['lon'])\n",
    "                max_temp.append(response['main']['temp_max'])\n",
    "                wind_speed.append(response['wind']['speed'])\n",
    "        \n",
    "                print(f'Processing Record {count} | {the_city_name}')\n",
    "        \n",
    "                #Record counter\n",
    "                count += 1\n",
    "            \n",
    "            else:\n",
    "                continue\n",
    "        \n",
    "        else:\n",
    "            continue  \n",
    "    \n",
    "    except:\n",
    "        print(f'City not found. Skipping...')"
   ]
  },
  {
   "cell_type": "code",
   "execution_count": 7,
   "metadata": {},
   "outputs": [
    {
     "name": "stdout",
     "output_type": "stream",
     "text": [
      "600\n",
      "600\n",
      "600\n",
      "600\n",
      "600\n",
      "600\n",
      "600\n",
      "600\n",
      "600\n"
     ]
    }
   ],
   "source": [
    "#checking all lists have the same data -> this means no missing values. \n",
    "print(len(cities))\n",
    "print(len(cloudiness))\n",
    "print(len(country))\n",
    "print(len(date))\n",
    "print(len(humidity))\n",
    "print(len(lat))\n",
    "print(len(lng))\n",
    "print(len(max_temp))\n",
    "print(len(wind_speed))"
   ]
  },
  {
   "cell_type": "markdown",
   "metadata": {},
   "source": [
    "### Convert Raw Data to DataFrame\n",
    "* Export the city data into a .csv.\n",
    "* Display the DataFrame"
   ]
  },
  {
   "cell_type": "code",
   "execution_count": 8,
   "metadata": {},
   "outputs": [
    {
     "data": {
      "text/html": [
       "<div>\n",
       "<style scoped>\n",
       "    .dataframe tbody tr th:only-of-type {\n",
       "        vertical-align: middle;\n",
       "    }\n",
       "\n",
       "    .dataframe tbody tr th {\n",
       "        vertical-align: top;\n",
       "    }\n",
       "\n",
       "    .dataframe thead th {\n",
       "        text-align: right;\n",
       "    }\n",
       "</style>\n",
       "<table border=\"1\" class=\"dataframe\">\n",
       "  <thead>\n",
       "    <tr style=\"text-align: right;\">\n",
       "      <th></th>\n",
       "      <th>City</th>\n",
       "      <th>Lat</th>\n",
       "      <th>Lng</th>\n",
       "      <th>Max_Temp</th>\n",
       "      <th>Humidity</th>\n",
       "      <th>Cloudiness</th>\n",
       "      <th>Wind_Speed</th>\n",
       "      <th>Date</th>\n",
       "      <th>Country</th>\n",
       "    </tr>\n",
       "  </thead>\n",
       "  <tbody>\n",
       "    <tr>\n",
       "      <th>0</th>\n",
       "      <td>Muli</td>\n",
       "      <td>2.92</td>\n",
       "      <td>73.57</td>\n",
       "      <td>301.06</td>\n",
       "      <td>76</td>\n",
       "      <td>100</td>\n",
       "      <td>4.13</td>\n",
       "      <td>1601610195</td>\n",
       "      <td>MV</td>\n",
       "    </tr>\n",
       "    <tr>\n",
       "      <th>1</th>\n",
       "      <td>Busselton</td>\n",
       "      <td>-33.65</td>\n",
       "      <td>115.33</td>\n",
       "      <td>290.37</td>\n",
       "      <td>43</td>\n",
       "      <td>36</td>\n",
       "      <td>7.33</td>\n",
       "      <td>1601610195</td>\n",
       "      <td>AU</td>\n",
       "    </tr>\n",
       "    <tr>\n",
       "      <th>2</th>\n",
       "      <td>Bindi</td>\n",
       "      <td>9.92</td>\n",
       "      <td>-11.45</td>\n",
       "      <td>294.69</td>\n",
       "      <td>97</td>\n",
       "      <td>100</td>\n",
       "      <td>1.45</td>\n",
       "      <td>1601610196</td>\n",
       "      <td>SL</td>\n",
       "    </tr>\n",
       "    <tr>\n",
       "      <th>3</th>\n",
       "      <td>Kapaa</td>\n",
       "      <td>22.08</td>\n",
       "      <td>-159.32</td>\n",
       "      <td>302.15</td>\n",
       "      <td>66</td>\n",
       "      <td>1</td>\n",
       "      <td>4.10</td>\n",
       "      <td>1601610196</td>\n",
       "      <td>US</td>\n",
       "    </tr>\n",
       "    <tr>\n",
       "      <th>4</th>\n",
       "      <td>Varaždin</td>\n",
       "      <td>46.30</td>\n",
       "      <td>16.34</td>\n",
       "      <td>282.04</td>\n",
       "      <td>99</td>\n",
       "      <td>89</td>\n",
       "      <td>1.76</td>\n",
       "      <td>1601610197</td>\n",
       "      <td>HR</td>\n",
       "    </tr>\n",
       "  </tbody>\n",
       "</table>\n",
       "</div>"
      ],
      "text/plain": [
       "        City    Lat     Lng  Max_Temp  Humidity  Cloudiness  Wind_Speed  \\\n",
       "0       Muli   2.92   73.57    301.06        76         100        4.13   \n",
       "1  Busselton -33.65  115.33    290.37        43          36        7.33   \n",
       "2      Bindi   9.92  -11.45    294.69        97         100        1.45   \n",
       "3      Kapaa  22.08 -159.32    302.15        66           1        4.10   \n",
       "4   Varaždin  46.30   16.34    282.04        99          89        1.76   \n",
       "\n",
       "         Date Country  \n",
       "0  1601610195      MV  \n",
       "1  1601610195      AU  \n",
       "2  1601610196      SL  \n",
       "3  1601610196      US  \n",
       "4  1601610197      HR  "
      ]
     },
     "execution_count": 8,
     "metadata": {},
     "output_type": "execute_result"
    }
   ],
   "source": [
    "#build data frame\n",
    "city_df = pd.DataFrame({\n",
    "    \"City\": cities, \n",
    "    \"Lat\": lat,\n",
    "    \"Lng\": lng,\n",
    "    \"Max_Temp\": max_temp,\n",
    "    \"Humidity\": humidity,\n",
    "    \"Cloudiness\": cloudiness,\n",
    "    \"Wind_Speed\": wind_speed,\n",
    "    \"Date\": date,\n",
    "    \"Country\": country,\n",
    "})\n",
    "\n",
    "city_df.head()"
   ]
  },
  {
   "cell_type": "code",
   "execution_count": 9,
   "metadata": {},
   "outputs": [
    {
     "data": {
      "text/plain": [
       "City           object\n",
       "Lat           float64\n",
       "Lng           float64\n",
       "Max_Temp      float64\n",
       "Humidity        int64\n",
       "Cloudiness      int64\n",
       "Wind_Speed    float64\n",
       "Date            int64\n",
       "Country        object\n",
       "dtype: object"
      ]
     },
     "execution_count": 9,
     "metadata": {},
     "output_type": "execute_result"
    }
   ],
   "source": [
    "city_df.dtypes"
   ]
  },
  {
   "cell_type": "code",
   "execution_count": 10,
   "metadata": {},
   "outputs": [
    {
     "data": {
      "text/html": [
       "<div>\n",
       "<style scoped>\n",
       "    .dataframe tbody tr th:only-of-type {\n",
       "        vertical-align: middle;\n",
       "    }\n",
       "\n",
       "    .dataframe tbody tr th {\n",
       "        vertical-align: top;\n",
       "    }\n",
       "\n",
       "    .dataframe thead th {\n",
       "        text-align: right;\n",
       "    }\n",
       "</style>\n",
       "<table border=\"1\" class=\"dataframe\">\n",
       "  <thead>\n",
       "    <tr style=\"text-align: right;\">\n",
       "      <th></th>\n",
       "      <th>City</th>\n",
       "      <th>Lat</th>\n",
       "      <th>Lng</th>\n",
       "      <th>Max_Temp</th>\n",
       "      <th>Humidity</th>\n",
       "      <th>Cloudiness</th>\n",
       "      <th>Wind_Speed</th>\n",
       "      <th>Date</th>\n",
       "      <th>Country</th>\n",
       "    </tr>\n",
       "  </thead>\n",
       "  <tbody>\n",
       "    <tr>\n",
       "      <th>0</th>\n",
       "      <td>Muli</td>\n",
       "      <td>2.92</td>\n",
       "      <td>73.57</td>\n",
       "      <td>27.91</td>\n",
       "      <td>76</td>\n",
       "      <td>100</td>\n",
       "      <td>4.13</td>\n",
       "      <td>1601610195</td>\n",
       "      <td>MV</td>\n",
       "    </tr>\n",
       "    <tr>\n",
       "      <th>1</th>\n",
       "      <td>Busselton</td>\n",
       "      <td>-33.65</td>\n",
       "      <td>115.33</td>\n",
       "      <td>17.22</td>\n",
       "      <td>43</td>\n",
       "      <td>36</td>\n",
       "      <td>7.33</td>\n",
       "      <td>1601610195</td>\n",
       "      <td>AU</td>\n",
       "    </tr>\n",
       "    <tr>\n",
       "      <th>2</th>\n",
       "      <td>Bindi</td>\n",
       "      <td>9.92</td>\n",
       "      <td>-11.45</td>\n",
       "      <td>21.54</td>\n",
       "      <td>97</td>\n",
       "      <td>100</td>\n",
       "      <td>1.45</td>\n",
       "      <td>1601610196</td>\n",
       "      <td>SL</td>\n",
       "    </tr>\n",
       "    <tr>\n",
       "      <th>3</th>\n",
       "      <td>Kapaa</td>\n",
       "      <td>22.08</td>\n",
       "      <td>-159.32</td>\n",
       "      <td>29.00</td>\n",
       "      <td>66</td>\n",
       "      <td>1</td>\n",
       "      <td>4.10</td>\n",
       "      <td>1601610196</td>\n",
       "      <td>US</td>\n",
       "    </tr>\n",
       "    <tr>\n",
       "      <th>4</th>\n",
       "      <td>Varaždin</td>\n",
       "      <td>46.30</td>\n",
       "      <td>16.34</td>\n",
       "      <td>8.89</td>\n",
       "      <td>99</td>\n",
       "      <td>89</td>\n",
       "      <td>1.76</td>\n",
       "      <td>1601610197</td>\n",
       "      <td>HR</td>\n",
       "    </tr>\n",
       "  </tbody>\n",
       "</table>\n",
       "</div>"
      ],
      "text/plain": [
       "        City    Lat     Lng  Max_Temp  Humidity  Cloudiness  Wind_Speed  \\\n",
       "0       Muli   2.92   73.57     27.91        76         100        4.13   \n",
       "1  Busselton -33.65  115.33     17.22        43          36        7.33   \n",
       "2      Bindi   9.92  -11.45     21.54        97         100        1.45   \n",
       "3      Kapaa  22.08 -159.32     29.00        66           1        4.10   \n",
       "4   Varaždin  46.30   16.34      8.89        99          89        1.76   \n",
       "\n",
       "         Date Country  \n",
       "0  1601610195      MV  \n",
       "1  1601610195      AU  \n",
       "2  1601610196      SL  \n",
       "3  1601610196      US  \n",
       "4  1601610197      HR  "
      ]
     },
     "execution_count": 10,
     "metadata": {},
     "output_type": "execute_result"
    }
   ],
   "source": [
    "#Changing temperature from Kelvin to Celcius\n",
    "city_df['Max_Temp'] = city_df['Max_Temp'] - 273.15\n",
    "city_df.head()"
   ]
  },
  {
   "cell_type": "code",
   "execution_count": 11,
   "metadata": {},
   "outputs": [
    {
     "data": {
      "text/html": [
       "<div>\n",
       "<style scoped>\n",
       "    .dataframe tbody tr th:only-of-type {\n",
       "        vertical-align: middle;\n",
       "    }\n",
       "\n",
       "    .dataframe tbody tr th {\n",
       "        vertical-align: top;\n",
       "    }\n",
       "\n",
       "    .dataframe thead th {\n",
       "        text-align: right;\n",
       "    }\n",
       "</style>\n",
       "<table border=\"1\" class=\"dataframe\">\n",
       "  <thead>\n",
       "    <tr style=\"text-align: right;\">\n",
       "      <th></th>\n",
       "      <th>City</th>\n",
       "      <th>Lat</th>\n",
       "      <th>Lng</th>\n",
       "      <th>Max_Temp</th>\n",
       "      <th>Humidity</th>\n",
       "      <th>Cloudiness</th>\n",
       "      <th>Wind_Speed</th>\n",
       "      <th>Date</th>\n",
       "      <th>Country</th>\n",
       "    </tr>\n",
       "  </thead>\n",
       "  <tbody>\n",
       "    <tr>\n",
       "      <th>0</th>\n",
       "      <td>Muli</td>\n",
       "      <td>2.92</td>\n",
       "      <td>73.57</td>\n",
       "      <td>27.91</td>\n",
       "      <td>76</td>\n",
       "      <td>100</td>\n",
       "      <td>14.868</td>\n",
       "      <td>1601610195</td>\n",
       "      <td>MV</td>\n",
       "    </tr>\n",
       "    <tr>\n",
       "      <th>1</th>\n",
       "      <td>Busselton</td>\n",
       "      <td>-33.65</td>\n",
       "      <td>115.33</td>\n",
       "      <td>17.22</td>\n",
       "      <td>43</td>\n",
       "      <td>36</td>\n",
       "      <td>26.388</td>\n",
       "      <td>1601610195</td>\n",
       "      <td>AU</td>\n",
       "    </tr>\n",
       "    <tr>\n",
       "      <th>2</th>\n",
       "      <td>Bindi</td>\n",
       "      <td>9.92</td>\n",
       "      <td>-11.45</td>\n",
       "      <td>21.54</td>\n",
       "      <td>97</td>\n",
       "      <td>100</td>\n",
       "      <td>5.220</td>\n",
       "      <td>1601610196</td>\n",
       "      <td>SL</td>\n",
       "    </tr>\n",
       "    <tr>\n",
       "      <th>3</th>\n",
       "      <td>Kapaa</td>\n",
       "      <td>22.08</td>\n",
       "      <td>-159.32</td>\n",
       "      <td>29.00</td>\n",
       "      <td>66</td>\n",
       "      <td>1</td>\n",
       "      <td>14.760</td>\n",
       "      <td>1601610196</td>\n",
       "      <td>US</td>\n",
       "    </tr>\n",
       "    <tr>\n",
       "      <th>4</th>\n",
       "      <td>Varaždin</td>\n",
       "      <td>46.30</td>\n",
       "      <td>16.34</td>\n",
       "      <td>8.89</td>\n",
       "      <td>99</td>\n",
       "      <td>89</td>\n",
       "      <td>6.336</td>\n",
       "      <td>1601610197</td>\n",
       "      <td>HR</td>\n",
       "    </tr>\n",
       "  </tbody>\n",
       "</table>\n",
       "</div>"
      ],
      "text/plain": [
       "        City    Lat     Lng  Max_Temp  Humidity  Cloudiness  Wind_Speed  \\\n",
       "0       Muli   2.92   73.57     27.91        76         100      14.868   \n",
       "1  Busselton -33.65  115.33     17.22        43          36      26.388   \n",
       "2      Bindi   9.92  -11.45     21.54        97         100       5.220   \n",
       "3      Kapaa  22.08 -159.32     29.00        66           1      14.760   \n",
       "4   Varaždin  46.30   16.34      8.89        99          89       6.336   \n",
       "\n",
       "         Date Country  \n",
       "0  1601610195      MV  \n",
       "1  1601610195      AU  \n",
       "2  1601610196      SL  \n",
       "3  1601610196      US  \n",
       "4  1601610197      HR  "
      ]
     },
     "execution_count": 11,
     "metadata": {},
     "output_type": "execute_result"
    }
   ],
   "source": [
    "#changing wind speed miles per second to kmph\n",
    "city_df[\"Wind_Speed\"] = city_df[\"Wind_Speed\"] * 3.6\n",
    "city_df.head()"
   ]
  },
  {
   "cell_type": "code",
   "execution_count": 12,
   "metadata": {},
   "outputs": [],
   "source": [
    "city_df = city_df.rename({\"Max_Temp\" : \"Temp (C)\", \"Wind_Speed\": \"Wind_Speed (kmph)\"}, axis = 1)"
   ]
  },
  {
   "cell_type": "code",
   "execution_count": 13,
   "metadata": {},
   "outputs": [
    {
     "data": {
      "text/html": [
       "<div>\n",
       "<style scoped>\n",
       "    .dataframe tbody tr th:only-of-type {\n",
       "        vertical-align: middle;\n",
       "    }\n",
       "\n",
       "    .dataframe tbody tr th {\n",
       "        vertical-align: top;\n",
       "    }\n",
       "\n",
       "    .dataframe thead th {\n",
       "        text-align: right;\n",
       "    }\n",
       "</style>\n",
       "<table border=\"1\" class=\"dataframe\">\n",
       "  <thead>\n",
       "    <tr style=\"text-align: right;\">\n",
       "      <th></th>\n",
       "      <th>City</th>\n",
       "      <th>Lat</th>\n",
       "      <th>Lng</th>\n",
       "      <th>Temp (C)</th>\n",
       "      <th>Humidity</th>\n",
       "      <th>Cloudiness</th>\n",
       "      <th>Wind_Speed (kmph)</th>\n",
       "      <th>Date</th>\n",
       "      <th>Country</th>\n",
       "    </tr>\n",
       "  </thead>\n",
       "  <tbody>\n",
       "    <tr>\n",
       "      <th>0</th>\n",
       "      <td>Muli</td>\n",
       "      <td>2.92</td>\n",
       "      <td>73.57</td>\n",
       "      <td>27.91</td>\n",
       "      <td>76</td>\n",
       "      <td>100</td>\n",
       "      <td>14.868</td>\n",
       "      <td>1601610195</td>\n",
       "      <td>MV</td>\n",
       "    </tr>\n",
       "    <tr>\n",
       "      <th>1</th>\n",
       "      <td>Busselton</td>\n",
       "      <td>-33.65</td>\n",
       "      <td>115.33</td>\n",
       "      <td>17.22</td>\n",
       "      <td>43</td>\n",
       "      <td>36</td>\n",
       "      <td>26.388</td>\n",
       "      <td>1601610195</td>\n",
       "      <td>AU</td>\n",
       "    </tr>\n",
       "    <tr>\n",
       "      <th>2</th>\n",
       "      <td>Bindi</td>\n",
       "      <td>9.92</td>\n",
       "      <td>-11.45</td>\n",
       "      <td>21.54</td>\n",
       "      <td>97</td>\n",
       "      <td>100</td>\n",
       "      <td>5.220</td>\n",
       "      <td>1601610196</td>\n",
       "      <td>SL</td>\n",
       "    </tr>\n",
       "    <tr>\n",
       "      <th>3</th>\n",
       "      <td>Kapaa</td>\n",
       "      <td>22.08</td>\n",
       "      <td>-159.32</td>\n",
       "      <td>29.00</td>\n",
       "      <td>66</td>\n",
       "      <td>1</td>\n",
       "      <td>14.760</td>\n",
       "      <td>1601610196</td>\n",
       "      <td>US</td>\n",
       "    </tr>\n",
       "    <tr>\n",
       "      <th>4</th>\n",
       "      <td>Varaždin</td>\n",
       "      <td>46.30</td>\n",
       "      <td>16.34</td>\n",
       "      <td>8.89</td>\n",
       "      <td>99</td>\n",
       "      <td>89</td>\n",
       "      <td>6.336</td>\n",
       "      <td>1601610197</td>\n",
       "      <td>HR</td>\n",
       "    </tr>\n",
       "  </tbody>\n",
       "</table>\n",
       "</div>"
      ],
      "text/plain": [
       "        City    Lat     Lng  Temp (C)  Humidity  Cloudiness  \\\n",
       "0       Muli   2.92   73.57     27.91        76         100   \n",
       "1  Busselton -33.65  115.33     17.22        43          36   \n",
       "2      Bindi   9.92  -11.45     21.54        97         100   \n",
       "3      Kapaa  22.08 -159.32     29.00        66           1   \n",
       "4   Varaždin  46.30   16.34      8.89        99          89   \n",
       "\n",
       "   Wind_Speed (kmph)        Date Country  \n",
       "0             14.868  1601610195      MV  \n",
       "1             26.388  1601610195      AU  \n",
       "2              5.220  1601610196      SL  \n",
       "3             14.760  1601610196      US  \n",
       "4              6.336  1601610197      HR  "
      ]
     },
     "execution_count": 13,
     "metadata": {},
     "output_type": "execute_result"
    }
   ],
   "source": [
    "city_df.head()"
   ]
  },
  {
   "cell_type": "code",
   "execution_count": 14,
   "metadata": {},
   "outputs": [],
   "source": [
    "#export CSV\n",
    "city_df.to_csv('../output_data/cities.csv')"
   ]
  },
  {
   "cell_type": "markdown",
   "metadata": {},
   "source": [
    "## Inspect the data and remove the cities where the humidity > 100%.\n",
    "----\n",
    "Skip this step if there are no cities that have humidity > 100%. "
   ]
  },
  {
   "cell_type": "code",
   "execution_count": 18,
   "metadata": {},
   "outputs": [
    {
     "data": {
      "text/plain": [
       "City          0\n",
       "Lat           0\n",
       "Lng           0\n",
       "Max Temp      0\n",
       "Humidity      0\n",
       "Cloudiness    0\n",
       "Wind Speed    0\n",
       "Date          0\n",
       "dtype: int64"
      ]
     },
     "execution_count": 18,
     "metadata": {},
     "output_type": "execute_result"
    }
   ],
   "source": [
    "city_df.loc[city_df['Humidity'] > 100].count()"
   ]
  },
  {
   "cell_type": "code",
   "execution_count": 37,
   "metadata": {},
   "outputs": [
    {
     "data": {
      "text/plain": [
       "100"
      ]
     },
     "execution_count": 37,
     "metadata": {},
     "output_type": "execute_result"
    }
   ],
   "source": [
    "#maximum humidity\n",
    "city_df['Humidity'].max()"
   ]
  },
  {
   "cell_type": "code",
   "execution_count": 3,
   "metadata": {},
   "outputs": [],
   "source": [
    "#  Get the indices of cities that have humidity over 100%.\n"
   ]
  },
  {
   "cell_type": "code",
   "execution_count": 4,
   "metadata": {},
   "outputs": [],
   "source": [
    "# Make a new DataFrame equal to the city data to drop all humidity outliers by index.\n",
    "# Passing \"inplace=False\" will make a copy of the city_data DataFrame, which we call \"clean_city_data\".\n"
   ]
  },
  {
   "cell_type": "markdown",
   "metadata": {},
   "source": [
    "## Plotting the Data\n",
    "* Use proper labeling of the plots using plot titles (including date of analysis) and axes labels.\n",
    "* Save the plotted figures as .pngs."
   ]
  },
  {
   "cell_type": "markdown",
   "metadata": {},
   "source": [
    "## Latitude vs. Temperature Plot"
   ]
  },
  {
   "cell_type": "code",
   "execution_count": 47,
   "metadata": {
    "scrolled": true
   },
   "outputs": [
    {
     "data": {
      "image/png": "[encoded data removed]",
      "text/plain": [
       "<Figure size 432x288 with 1 Axes>"
      ]
     },
     "metadata": {
      "needs_background": "light"
     },
     "output_type": "display_data"
    }
   ],
   "source": [
    "%matplotlib inline \n",
    "plt.scatter(city_df['Temp (C)'], city_df['Lat'])\n",
    "\n",
    "#labels\n",
    "plt.title(\"Latitude vs. Temperature Plot\")\n",
    "plt.ylabel('Latitude')\n",
    "plt.xlabel(\"Temperature (℃)\")\n",
    "plt.savefig(\"../output_data/lat_temp.png\")"
   ]
  },
  {
   "cell_type": "markdown",
   "metadata": {},
   "source": [
    "## Latitude vs. Humidity Plot"
   ]
  },
  {
   "cell_type": "code",
   "execution_count": 15,
   "metadata": {},
   "outputs": [
    {
     "data": {
      "image/png": "[encoded data removed]",
      "text/plain": [
       "<Figure size 432x288 with 1 Axes>"
      ]
     },
     "metadata": {
      "needs_background": "light"
     },
     "output_type": "display_data"
    }
   ],
   "source": [
    "%matplotlib inline\n",
    "plt.scatter(city_df['Humidity'], city_df['Lat'])\n",
    "\n",
    "#labels\n",
    "plt.title(\"Latitude vs. Humidity\")\n",
    "plt.ylabel('Latitude')\n",
    "plt.xlabel(\"Humidity\")\n",
    "plt.savefig(\"../output_data/lat_humidity.png\")"
   ]
  },
  {
   "cell_type": "markdown",
   "metadata": {},
   "source": [
    "## Latitude vs. Cloudiness Plot"
   ]
  },
  {
   "cell_type": "code",
   "execution_count": 16,
   "metadata": {},
   "outputs": [
    {
     "data": {
      "image/png": "[encoded data removed]",
      "text/plain": [
       "<Figure size 432x288 with 1 Axes>"
      ]
     },
     "metadata": {
      "needs_background": "light"
     },
     "output_type": "display_data"
    }
   ],
   "source": [
    "plt.scatter(city_df['Cloudiness'], city_df['Lat'])\n",
    "\n",
    "#labels\n",
    "plt.title(\"Latitude vs. Cloudiness\")\n",
    "plt.ylabel('Latitude')\n",
    "plt.xlabel(\"Cloudiness\")\n",
    "plt.savefig(\"../output_data/lat_cloudiness.png\")"
   ]
  },
  {
   "cell_type": "markdown",
   "metadata": {},
   "source": [
    "## Latitude vs. Wind Speed Plot"
   ]
  },
  {
   "cell_type": "code",
   "execution_count": 48,
   "metadata": {},
   "outputs": [
    {
     "data": {
      "image/png": "[encoded data removed]",
      "text/plain": [
       "<Figure size 432x288 with 1 Axes>"
      ]
     },
     "metadata": {
      "needs_background": "light"
     },
     "output_type": "display_data"
    }
   ],
   "source": [
    "plt.scatter(city_df['Lat'], city_df['Wind_Speed (kmph)'])\n",
    "\n",
    "#labels\n",
    "plt.title(\"Wind Speed vs. Latitude\")\n",
    "plt.xlabel('Wind Speed (kmph)')\n",
    "plt.ylabel(\"Latitude\")\n",
    "plt.savefig(\"../output_data/lat_windspeed.png\")"
   ]
  },
  {
   "cell_type": "markdown",
   "metadata": {},
   "source": [
    "## Linear Regression"
   ]
  },
  {
   "cell_type": "code",
   "execution_count": 51,
   "metadata": {},
   "outputs": [
    {
     "name": "stdout",
     "output_type": "stream",
     "text": [
      "This is the maximum latitude value for the southen hemisphere cities: -0.32\n",
      "This is the total number of cities in the southern hemisphere Data Frame: 194\n"
     ]
    }
   ],
   "source": [
    "#creating southen hemisphere dataframe\n",
    "southern_cities = city_df.loc[city_df['Lat']<0][[\"City\", \"Lat\",\"Lng\", \"Temp (C)\", \"Humidity\",\"Cloudiness\",\"Wind_Speed (kmph)\"]]\n",
    "\n",
    "#printing values\n",
    "print(f\"This is the maximum latitude value for the southen hemisphere cities: {southern_cities['Lat'].max()}\")\n",
    "print(f\"This is the total number of cities in the southern hemisphere Data Frame: {len(southern_cities)}\")"
   ]
  },
  {
   "cell_type": "code",
   "execution_count": 52,
   "metadata": {},
   "outputs": [
    {
     "name": "stdout",
     "output_type": "stream",
     "text": [
      "This is the minimum latitude value for the northern hemisphere cities: 0.53\n",
      "This is the total number of cities in the northern hemisphere Data Frame: 406\n"
     ]
    }
   ],
   "source": [
    "#creating northern hemisphere data frame\n",
    "northern_cities = city_df.loc[city_df['Lat']>0][[\"City\", \"Lat\",\"Lng\", \"Temp (C)\", \"Humidity\",\"Cloudiness\",\"Wind_Speed (kmph)\"]]\n",
    "\n",
    "#printing values\n",
    "print(f\"This is the minimum latitude value for the northern hemisphere cities: {northern_cities['Lat'].min()}\")\n",
    "print(f'This is the total number of cities in the northern hemisphere Data Frame: {len(northern_cities)}')"
   ]
  },
  {
   "cell_type": "markdown",
   "metadata": {},
   "source": [
    "####  Northern Hemisphere - Max Temp vs. Latitude Linear Regression"
   ]
  },
  {
   "cell_type": "code",
   "execution_count": 55,
   "metadata": {},
   "outputs": [
    {
     "data": {
      "image/png": "[encoded data removed]",
      "text/plain": [
       "<Figure size 432x288 with 1 Axes>"
      ]
     },
     "metadata": {
      "needs_background": "light"
     },
     "output_type": "display_data"
    }
   ],
   "source": [
    "north_lat = northern_cities['Lat']\n",
    "temp = northern_cities['Temp (C)']\n",
    "\n",
    "(slope, intercept, rvalue, pvalue, stderr) = st.linregress(temp, north_lat)\n",
    "\n",
    "# Get regression values\n",
    "regress_values = temp * slope + intercept\n",
    "\n",
    "# Create line equation string\n",
    "line_eq = \"y = \" + str(round(slope,2)) + \"x +\" + str(round(intercept,2))\n",
    "\n",
    "#plotting\n",
    "\n",
    "plt.scatter(temp, north_lat)\n",
    "plt.plot(temp,regress_values,\"orange\")\n",
    "\n",
    "#labels\n",
    "plt.title(\"Northern Hemisphere Max Temp Celcius\")\n",
    "plt.xlabel('Temperature (℃)')\n",
    "plt.ylabel(\"Latitude\")\n",
    "plt.annotate(line_eq,(-10, 10),fontsize=15,color=\"orange\")\n",
    "plt.savefig(\"../output_data/north_maxtemp.png\")"
   ]
  },
  {
   "cell_type": "markdown",
   "metadata": {},
   "source": [
    "####  Southern Hemisphere - Max Temp vs. Latitude Linear Regression"
   ]
  },
  {
   "cell_type": "code",
   "execution_count": 54,
   "metadata": {},
   "outputs": [
    {
     "data": {
      "image/png": "[encoded data removed]",
      "text/plain": [
       "<Figure size 432x288 with 1 Axes>"
      ]
     },
     "metadata": {
      "needs_background": "light"
     },
     "output_type": "display_data"
    }
   ],
   "source": [
    "southern_lat = southern_cities['Lat']\n",
    "temp = southern_cities['Temp (C)']\n",
    "\n",
    "(slope, intercept, rvalue, pvalue, stderr) = st.linregress(temp, southern_lat)\n",
    "\n",
    "# Get regression values\n",
    "regress_values = temp * slope + intercept\n",
    "\n",
    "# Create line equation string\n",
    "line_eq = \"y = \" + str(round(slope,2)) + \"x  \" + str(round(intercept,2))\n",
    "\n",
    "#plotting\n",
    "\n",
    "plt.scatter(temp, southern_lat)\n",
    "plt.plot(temp,regress_values,\"red\")\n",
    "\n",
    "#labels\n",
    "plt.title(\"Southern Hemisphere Max Temp Celcius\")\n",
    "plt.xlabel('Temperature (℃)')\n",
    "plt.ylabel(\"Latitude\")\n",
    "plt.annotate(line_eq,(10, -50),fontsize=15,color=\"red\")\n",
    "plt.savefig(\"../output_data/south_maxtemp.png\")"
   ]
  },
  {
   "cell_type": "markdown",
   "metadata": {},
   "source": [
    "Observations\n",
    "\n",
    "Both graphs convey the same point: as the latitude gets closer to 0, the temperature increases. "
   ]
  },
  {
   "cell_type": "markdown",
   "metadata": {},
   "source": [
    "####  Northern Hemisphere - Humidity (%) vs. Latitude Linear Regression"
   ]
  },
  {
   "cell_type": "code",
   "execution_count": 28,
   "metadata": {},
   "outputs": [
    {
     "data": {
      "image/png": "[encoded data removed]",
      "text/plain": [
       "<Figure size 432x288 with 1 Axes>"
      ]
     },
     "metadata": {
      "needs_background": "light"
     },
     "output_type": "display_data"
    }
   ],
   "source": [
    "humd = northern_cities['Humidity']\n",
    "\n",
    "(slope, intercept, rvalue, pvalue, stderr) = st.linregress(humd, north_lat)\n",
    "\n",
    "# Get regression values\n",
    "regress_values = humd * slope + intercept\n",
    "\n",
    "# Create line equation string\n",
    "line_eq = \"y = \" + str(round(slope,2)) + \"x + \" + str(round(intercept,2))\n",
    "\n",
    "#plotting\n",
    "\n",
    "plt.scatter(humd, north_lat)\n",
    "plt.plot(humd,regress_values,\"orange\")\n",
    "\n",
    "#labels\n",
    "plt.title(\"Northern Hemisphere Humidity %\")\n",
    "plt.xlabel('Humidity (%)')\n",
    "plt.ylabel(\"Latitude\")\n",
    "plt.annotate(line_eq,(10, 70),fontsize=15,color=\"orange\")\n",
    "plt.savefig(\"../output_data/north_humidity.png\")"
   ]
  },
  {
   "cell_type": "markdown",
   "metadata": {},
   "source": [
    "####  Southern Hemisphere - Humidity (%) vs. Latitude Linear Regression"
   ]
  },
  {
   "cell_type": "code",
   "execution_count": 31,
   "metadata": {},
   "outputs": [
    {
     "data": {
      "image/png": "[encoded data removed]",
      "text/plain": [
       "<Figure size 432x288 with 1 Axes>"
      ]
     },
     "metadata": {
      "needs_background": "light"
     },
     "output_type": "display_data"
    }
   ],
   "source": [
    "humd = southern_cities['Humidity']\n",
    "\n",
    "(slope, intercept, rvalue, pvalue, stderr) = st.linregress(humd, southern_lat)\n",
    "\n",
    "# Get regression values\n",
    "regress_values = humd * slope + intercept\n",
    "\n",
    "# Create line equation string\n",
    "line_eq = \"y = \" + str(round(slope,2)) + \"x \" + str(round(intercept,2))\n",
    "\n",
    "#plotting\n",
    "\n",
    "plt.scatter(humd, southern_lat)\n",
    "plt.plot(humd,regress_values,\"red\")\n",
    "\n",
    "#labels\n",
    "plt.title(\"Southern Hemisphere Humidity %\")\n",
    "plt.xlabel('Humidity (%)')\n",
    "plt.ylabel(\"Latitude\")\n",
    "plt.annotate(line_eq,(10, -50),fontsize=15,color=\"red\")\n",
    "plt.savefig(\"../output_data/south_humidity.png\")"
   ]
  },
  {
   "cell_type": "markdown",
   "metadata": {},
   "source": [
    "#observa\n",
    "\n",
    "It can clearly be observed that Humidity rises towards the north. \n",
    "On the southern hemisphere plot we see Humidity rising towards the equator where in the northern hemisphere we see the trend continuing increasing as latitude increases"
   ]
  },
  {
   "cell_type": "markdown",
   "metadata": {},
   "source": [
    "####  Northern Hemisphere - Cloudiness (%) vs. Latitude Linear Regression"
   ]
  },
  {
   "cell_type": "code",
   "execution_count": 32,
   "metadata": {},
   "outputs": [
    {
     "data": {
      "image/png": "[encoded data removed]",
      "text/plain": [
       "<Figure size 432x288 with 1 Axes>"
      ]
     },
     "metadata": {
      "needs_background": "light"
     },
     "output_type": "display_data"
    }
   ],
   "source": [
    "cloud = northern_cities['Cloudiness']\n",
    "\n",
    "(slope, intercept, rvalue, pvalue, stderr) = st.linregress(cloud, north_lat)\n",
    "\n",
    "# Get regression values\n",
    "regress_values = cloud * slope + intercept\n",
    "\n",
    "# Create line equation string\n",
    "line_eq = \"y = \" + str(round(slope,2)) + \"x +\" + str(round(intercept,2))\n",
    "\n",
    "#plotting\n",
    "\n",
    "plt.scatter(cloud, north_lat)\n",
    "plt.plot(cloud,regress_values,\"orange\")\n",
    "\n",
    "#labels\n",
    "plt.title(\"Northern Hemisphere Cloudiness (%)\")\n",
    "plt.xlabel('Cloudiness %')\n",
    "plt.ylabel(\"Latitude\")\n",
    "plt.annotate(line_eq,(15, 75),fontsize=15,color=\"orange\")\n",
    "plt.savefig(\"../output_data/north_cloudiness.png\")"
   ]
  },
  {
   "cell_type": "markdown",
   "metadata": {},
   "source": [
    "####  Southern Hemisphere - Cloudiness (%) vs. Latitude Linear Regression"
   ]
  },
  {
   "cell_type": "code",
   "execution_count": 33,
   "metadata": {},
   "outputs": [
    {
     "data": {
      "image/png": "[encoded data removed]",
      "text/plain": [
       "<Figure size 432x288 with 1 Axes>"
      ]
     },
     "metadata": {
      "needs_background": "light"
     },
     "output_type": "display_data"
    }
   ],
   "source": [
    "scloud = southern_cities['Cloudiness']\n",
    "\n",
    "(slope, intercept, rvalue, pvalue, stderr) = st.linregress(scloud, southern_lat)\n",
    "\n",
    "# Get regression values\n",
    "regress_values = scloud * slope + intercept\n",
    "\n",
    "# Create line equation string\n",
    "line_eq = \"y = \" + str(round(slope,2)) + \"x  \" + str(round(intercept,2))\n",
    "\n",
    "#plotting\n",
    "\n",
    "plt.scatter(scloud, southern_lat)\n",
    "plt.plot(scloud,regress_values,\"red\")\n",
    "\n",
    "#labels\n",
    "plt.title(\"Southern Hemisphere Cloudiness %\")\n",
    "plt.xlabel('Cloudiness %')\n",
    "plt.ylabel(\"Latitude\")\n",
    "plt.annotate(line_eq,(25, -55),fontsize=15,color=\"red\")\n",
    "plt.savefig(\"../output_data/south_Cloudiness.png\")"
   ]
  },
  {
   "cell_type": "markdown",
   "metadata": {},
   "source": [
    "#observation\n",
    "\n",
    "Cloudiness does not seem to change between both hemispheres, its fairly constant. However its interesting to see how for the northern hemisphere plot, you can almost see the data points spread vertically in each round value (10, 20, 30, etc.) and parallel to each other. "
   ]
  },
  {
   "cell_type": "markdown",
   "metadata": {},
   "source": [
    "####  Northern Hemisphere - Wind Speed (mph) vs. Latitude Linear Regression"
   ]
  },
  {
   "cell_type": "code",
   "execution_count": 57,
   "metadata": {},
   "outputs": [
    {
     "data": {
      "image/png": "[encoded data removed]",
      "text/plain": [
       "<Figure size 432x288 with 1 Axes>"
      ]
     },
     "metadata": {
      "needs_background": "light"
     },
     "output_type": "display_data"
    }
   ],
   "source": [
    "wind = northern_cities['Wind_Speed (kmph)']\n",
    "\n",
    "(slope, intercept, rvalue, pvalue, stderr) = st.linregress(wind, north_lat)\n",
    "\n",
    "# Get regression values\n",
    "regress_values = wind * slope + intercept\n",
    "\n",
    "# Create line equation string\n",
    "line_eq = \"y = \" + str(round(slope,2)) + \"x +\" + str(round(intercept,2))\n",
    "\n",
    "#plotting\n",
    "\n",
    "plt.scatter(wind, north_lat)\n",
    "plt.plot(wind,regress_values,\"orange\")\n",
    "\n",
    "#labels\n",
    "plt.title(\"Northern Hemisphere Wind Speed (kmph)\")\n",
    "plt.xlabel('Wind Speed (kmph)')\n",
    "plt.ylabel(\"Latitude\")\n",
    "plt.annotate(line_eq,(40, 32),fontsize=15,color=\"orange\")\n",
    "plt.savefig(\"../output_data/north_windspeed.png\")"
   ]
  },
  {
   "cell_type": "markdown",
   "metadata": {},
   "source": [
    "####  Southern Hemisphere - Wind Speed (mph) vs. Latitude Linear Regression"
   ]
  },
  {
   "cell_type": "code",
   "execution_count": 59,
   "metadata": {},
   "outputs": [
    {
     "data": {
      "image/png": "[encoded data removed]",
      "text/plain": [
       "<Figure size 432x288 with 1 Axes>"
      ]
     },
     "metadata": {
      "needs_background": "light"
     },
     "output_type": "display_data"
    }
   ],
   "source": [
    "swind = southern_cities['Wind_Speed (kmph)']\n",
    "\n",
    "(slope, intercept, rvalue, pvalue, stderr) = st.linregress(swind, southern_lat)\n",
    "\n",
    "# Get regression values\n",
    "regress_values = swind * slope + intercept\n",
    "\n",
    "# Create line equation string\n",
    "line_eq = \"y = \" + str(round(slope,2)) + \"x  \" + str(round(intercept,2))\n",
    "\n",
    "#plotting\n",
    "\n",
    "plt.scatter(swind, southern_lat)\n",
    "plt.plot(swind,regress_values,\"red\")\n",
    "\n",
    "#labels\n",
    "plt.title(\"Southern Hemisphere Wind Speed (kmph)\")\n",
    "plt.xlabel('Wind Speed (kmph)')\n",
    "plt.ylabel(\"Latitude\")\n",
    "plt.annotate(line_eq,(30, -40),fontsize=15,color=\"red\")\n",
    "plt.savefig(\"../output_data/south_windspeed.png\")"
   ]
  },
  {
   "cell_type": "markdown",
   "metadata": {},
   "source": [
    "#observations \n",
    "\n",
    "Latitude does not have an effect on wind speed. "
   ]
  }
 ],
 "metadata": {
  "anaconda-cloud": {},
  "kernel_info": {
   "name": "python3"
  },
  "kernelspec": {
   "display_name": "Python 3",
   "language": "python",
   "name": "python3"
  },
  "language_info": {
   "codemirror_mode": {
    "name": "ipython",
    "version": 3
   },
   "file_extension": ".py",
   "mimetype": "text/x-python",
   "name": "python",
   "nbconvert_exporter": "python",
   "pygments_lexer": "ipython3",
   "version": "3.6.10"
  },
  "latex_envs": {
   "LaTeX_envs_menu_present": true,
   "autoclose": false,
   "autocomplete": true,
   "bibliofile": "biblio.bib",
   "cite_by": "apalike",
   "current_citInitial": 1,
   "eqLabelWithNumbers": true,
   "eqNumInitial": 1,
   "hotkeys": {
    "equation": "Ctrl-E",
    "itemize": "Ctrl-I"
   },
   "labels_anchors": false,
   "latex_user_defs": false,
   "report_style_numbering": false,
   "user_envs_cfg": false
  },
  "nteract": {
   "version": "0.12.3"
  }
 },
 "nbformat": 4,
 "nbformat_minor": 2
}
